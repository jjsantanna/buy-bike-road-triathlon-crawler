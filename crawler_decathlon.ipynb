{
 "cells": [
  {
   "cell_type": "markdown",
   "id": "1167647b",
   "metadata": {},
   "source": [
    "- https://www.decathlon.nl/browse/c0-sporten/c1-fietsen/c3-racefiets/gender-heren/gender-onzijdig/nature-racefiets/size-m/size-l/_/N-ybg19lZc2zcfeZaw4orqZ1gp15qeZ57w2ytZ17shdoy?Nf=sku.modelLowestPrice%7CBTWN%2B499%2B1600"
   ]
  },
  {
   "cell_type": "code",
   "execution_count": 97,
   "id": "443c1b0f",
   "metadata": {},
   "outputs": [],
   "source": [
    "import pandas as pd\n",
    "pd.set_option('display.max_colwidth', None)"
   ]
  },
  {
   "cell_type": "code",
   "execution_count": 98,
   "id": "0c2762cb",
   "metadata": {},
   "outputs": [],
   "source": [
    "from selenium import webdriver\n",
    "from webdriver_manager.chrome import ChromeDriverManager\n",
    "from selenium.webdriver.common.keys import Keys"
   ]
  },
  {
   "cell_type": "code",
   "execution_count": 101,
   "id": "650d1dd9",
   "metadata": {},
   "outputs": [
    {
     "name": "stderr",
     "output_type": "stream",
     "text": [
      "\n",
      "\n",
      "====== WebDriver manager ======\n",
      "Current google-chrome version is 104.0.5112\n",
      "Get LATEST driver version for 104.0.5112\n",
      "Driver [/Users/nw/.wdm/drivers/chromedriver/mac64/104.0.5112.79/chromedriver] found in cache\n"
     ]
    }
   ],
   "source": [
    "driver = webdriver.Chrome(ChromeDriverManager().install())\n",
    "driver.get(\"https://www.decathlon.nl/browse/c0-sporten/c1-fietsen/c3-racefiets/gender-heren/gender-onzijdig/nature-racefiets/size-m/size-l/_/N-ybg19lZc2zcfeZaw4orqZ1gp15qeZ57w2ytZ17shdoy?Nf=sku.modelLowestPrice%7CBTWN%2B499%2B1600\")"
   ]
  },
  {
   "cell_type": "code",
   "execution_count": 102,
   "id": "32292176",
   "metadata": {},
   "outputs": [],
   "source": [
    "bikes = driver.find_elements_by_xpath('//div[@class=\"dpb-holder svelte-cf1qr3\"]')\n",
    "\n",
    "b=[]\n",
    "for bike in bikes:\n",
    "    b.append(bike.text)"
   ]
  },
  {
   "cell_type": "code",
   "execution_count": 103,
   "id": "cf5cfd83",
   "metadata": {},
   "outputs": [],
   "source": [
    "links = driver.find_elements_by_xpath('//div[@class=\"dpb-holder svelte-cf1qr3\"]/a')\n",
    "l =[]\n",
    "for link in links:\n",
    "    l.append(link.get_attribute(\"href\"))"
   ]
  },
  {
   "cell_type": "code",
   "execution_count": 104,
   "id": "167a0b2f",
   "metadata": {},
   "outputs": [],
   "source": [
    "df = pd.DataFrame(b)"
   ]
  },
  {
   "cell_type": "code",
   "execution_count": 105,
   "id": "49fdec38",
   "metadata": {},
   "outputs": [],
   "source": [
    "df['links']= pd.DataFrame(l)"
   ]
  },
  {
   "cell_type": "markdown",
   "id": "cc3f5cb7",
   "metadata": {},
   "source": [
    "pre-processing"
   ]
  },
  {
   "cell_type": "code",
   "execution_count": 41,
   "id": "e1347958",
   "metadata": {},
   "outputs": [],
   "source": [
    "# df[0] = df[0].apply(lambda x: x.replace('Racefiets / wielrenfiets ','').\\\n",
    "#                                 replace('RACEFIETS / WIELRENFIETS ','').\\\n",
    "#                                 replace('\\nDit artikel is nu niet online verkrijgbaar, bekijk de winkelvoorraad','').\\\n",
    "#                                 replace('\\nPreview next model','').\\\n",
    "#                                 replace('\\nPreview previous model','')   )"
   ]
  },
  {
   "cell_type": "code",
   "execution_count": 106,
   "id": "c01bbb14",
   "metadata": {},
   "outputs": [],
   "source": [
    "df['price'] = df[0].str.extract(r'\\n(\\d[\\d.,]*)\\b', expand=False)"
   ]
  },
  {
   "cell_type": "code",
   "execution_count": 107,
   "id": "3da675d1",
   "metadata": {},
   "outputs": [],
   "source": [
    "df['set_type'] = df[0].apply(lambda x: \"Shimano Sora\" if \"sora\" in x.lower() else x)\n",
    "df['set_type'] = df['set_type'].apply(lambda x: \"Shimano Ultegra\" if \"ultegra\" in x.lower() else x)\n",
    "df['set_type'] = df['set_type'].apply(lambda x: \"Shimano 105\" if \"105\" in x.lower() else x)\n",
    "df['set_type'] = df['set_type'].apply(lambda x: \"Microshift\" if \"microshift\" in x.lower() else x)\n",
    "df['set_type'] = df['set_type'].apply(lambda x: \"Campagnolo Centaur\" if \"centaur\" in x.lower() else x)"
   ]
  },
  {
   "cell_type": "code",
   "execution_count": 108,
   "id": "5fcbbf0d",
   "metadata": {},
   "outputs": [],
   "source": [
    "df['model'] = df[0].apply(lambda x: \"RC120\" if \"rc120\" in x.lower() else x)\n",
    "df['model'] = df['model'].apply(lambda x: \"RC500\" if \"rc500\" in x.lower() else x)\n",
    "df['model'] = df['model'].apply(lambda x: \"RC520\" if \"rc520\" in x.lower() else x)\n",
    "df['model'] = df['model'].apply(lambda x: \"EDR AF\" if \"edr af\" in x.lower() else x)"
   ]
  },
  {
   "cell_type": "code",
   "execution_count": 123,
   "id": "c92b7fa8",
   "metadata": {},
   "outputs": [],
   "source": [
    "type_set_weight={'Shimano Dura Ace Di2':1,\n",
    "                 'Shimano Dura Ace':0.9,\n",
    "                 'SRAM Red':0.9,\n",
    "                 'Shimano Ultegra Di2':0.8,\n",
    "                 'Shimano Ultegra':0.7,\n",
    "                 'Shimano 105': 0.6,\n",
    "                 'Campagnolo Centaur':0.6,\n",
    "                 'Microshift':0.6, #NOT CERTAIN!\n",
    "                 'Shimano Tiagra': 0.5,\n",
    "                 'Shimano Sora': 0.4\n",
    "                }\n",
    "\n",
    "df['type_set_weight'] = df.replace({\"set_type\": type_set_weight})['set_type']"
   ]
  },
  {
   "cell_type": "code",
   "execution_count": 125,
   "id": "f9ebeaa3",
   "metadata": {},
   "outputs": [
    {
     "data": {
      "text/html": [
       "<div>\n",
       "<style scoped>\n",
       "    .dataframe tbody tr th:only-of-type {\n",
       "        vertical-align: middle;\n",
       "    }\n",
       "\n",
       "    .dataframe tbody tr th {\n",
       "        vertical-align: top;\n",
       "    }\n",
       "\n",
       "    .dataframe thead th {\n",
       "        text-align: right;\n",
       "    }\n",
       "</style>\n",
       "<table border=\"1\" class=\"dataframe\">\n",
       "  <thead>\n",
       "    <tr style=\"text-align: right;\">\n",
       "      <th></th>\n",
       "      <th>0</th>\n",
       "      <th>links</th>\n",
       "      <th>price</th>\n",
       "      <th>set_type</th>\n",
       "      <th>model</th>\n",
       "      <th>type_set_weight</th>\n",
       "    </tr>\n",
       "  </thead>\n",
       "  <tbody>\n",
       "    <tr>\n",
       "      <th>7</th>\n",
       "      <td>Racefiets / Wielrenfiets EDR AF Ultegra wit/zwart\\n1.409,99\\nVAN RYSEL\\nRACEFIETS / WIELRENFIETS EDR AF ULTEGRA WIT/ZWART\\n(260)</td>\n",
       "      <td>https://www.decathlon.nl/p/racefiets-wielrenfiets-edr-af-ultegra/_/R-p-311959?mc=8569095&amp;c=WIT</td>\n",
       "      <td>1.409,99</td>\n",
       "      <td>Shimano Ultegra</td>\n",
       "      <td>EDR AF</td>\n",
       "      <td>0.7</td>\n",
       "    </tr>\n",
       "    <tr>\n",
       "      <th>0</th>\n",
       "      <td>Racefiets / wielrenfiets RC120 Microshift met schijfremmen donkerblauw\\n499,99\\nIn 2 kleuren beschikbaar\\nTRIBAN\\nRACEFIETS / WIELRENFIETS RC120 MICROSHIFT MET SCHIJFREMMEN DONKERBLAUW\\n(743)</td>\n",
       "      <td>https://www.decathlon.nl/p/racefiets-wielrenfiets-rc120-microshift-met-schijfremmen/_/R-p-302301?mc=8545836&amp;c=BLAUW</td>\n",
       "      <td>499,99</td>\n",
       "      <td>Microshift</td>\n",
       "      <td>RC120</td>\n",
       "      <td>0.6</td>\n",
       "    </tr>\n",
       "    <tr>\n",
       "      <th>2</th>\n",
       "      <td>Racefiets / wielrenfiets RC120 flatbar microshift en schijfremmen blauw/oranje\\n499,99\\nTRIBAN\\nRACEFIETS / WIELRENFIETS RC120 FLATBAR MICROSHIFT EN SCHIJFREMMEN BLAUW/ORANJE\\n(113)</td>\n",
       "      <td>https://www.decathlon.nl/p/racefiets-wielrenfiets-rc120-flatbar-microshift-en-schijfremmen-blauw-oranje/_/R-p-X8556195?mc=8556195</td>\n",
       "      <td>499,99</td>\n",
       "      <td>Microshift</td>\n",
       "      <td>RC120</td>\n",
       "      <td>0.6</td>\n",
       "    </tr>\n",
       "    <tr>\n",
       "      <th>3</th>\n",
       "      <td>Racefiets / wielrenfiets EDR AF Shimano 105 zwart\\n1.099,99\\nVAN RYSEL\\nRACEFIETS / WIELRENFIETS EDR AF SHIMANO 105 ZWART\\n(331)</td>\n",
       "      <td>https://www.decathlon.nl/p/racefiets-wielrenfiets-edr-af-shimano-105/_/R-p-305449?mc=8529300&amp;c=ZWART</td>\n",
       "      <td>1.099,99</td>\n",
       "      <td>Shimano 105</td>\n",
       "      <td>EDR AF</td>\n",
       "      <td>0.6</td>\n",
       "    </tr>\n",
       "    <tr>\n",
       "      <th>8</th>\n",
       "      <td>Racefiets EDR AF CENTAUR wit\\n1.099,99\\nIn 2 kleuren beschikbaar\\nVAN RYSEL\\nRACEFIETS EDR AF CENTAUR WIT\\n(34)</td>\n",
       "      <td>https://www.decathlon.nl/p/racefiets-edr-af-centaur/_/R-p-335668?mc=8757114</td>\n",
       "      <td>1.099,99</td>\n",
       "      <td>Campagnolo Centaur</td>\n",
       "      <td>EDR AF</td>\n",
       "      <td>0.6</td>\n",
       "    </tr>\n",
       "    <tr>\n",
       "      <th>9</th>\n",
       "      <td>Racefiets / wielrenfiets RC520 flatbar Shimano 105 en schijfremmen blauw\\n949,99\\nTRIBAN\\nRACEFIETS / WIELRENFIETS RC520 FLATBAR SHIMANO 105 EN SCHIJFREMMEN BLAUW\\n(56)\\nDit artikel is nu niet online verkrijgbaar, bekijk de winkelvoorraad</td>\n",
       "      <td>https://www.decathlon.nl/p/racefiets-wielrenfiets-rc520-flatbar-shimano-105-en-schijfremmen-blauw/_/R-p-307286?mc=8543912</td>\n",
       "      <td>949,99</td>\n",
       "      <td>Shimano 105</td>\n",
       "      <td>RC520</td>\n",
       "      <td>0.6</td>\n",
       "    </tr>\n",
       "    <tr>\n",
       "      <th>1</th>\n",
       "      <td>Racefiets / wielrenfiets RC500 Shimano Sora met schijfremmen grijs\\n749,99\\nTRIBAN\\nRACEFIETS / WIELRENFIETS RC500 SHIMANO SORA MET SCHIJFREMMEN GRIJS\\n(174)\\nDit artikel is nu niet online verkrijgbaar, bekijk de winkelvoorraad</td>\n",
       "      <td>https://www.decathlon.nl/p/racefiets-wielrenfiets-rc500-shimano-sora-met-schijfremmen-grijs/_/R-p-301728?mc=8502354&amp;c=GRIJS</td>\n",
       "      <td>749,99</td>\n",
       "      <td>Shimano Sora</td>\n",
       "      <td>RC500</td>\n",
       "      <td>0.4</td>\n",
       "    </tr>\n",
       "    <tr>\n",
       "      <th>4</th>\n",
       "      <td>RACEFIETS / WIELRENFIETS RC500 FLATBAR SHIMANO SORA EN SCHIJFREMMEN\\n809,99\\nTRIBAN\\nRACEFIETS / WIELRENFIETS RC500 FLATBAR SHIMANO SORA EN SCHIJFREMMEN\\n(252)</td>\n",
       "      <td>https://www.decathlon.nl/p/racefiets-wielrenfiets-rc500-flatbar-shimano-sora-en-schijfremmen/_/R-p-306215?mc=8548314</td>\n",
       "      <td>809,99</td>\n",
       "      <td>Shimano Sora</td>\n",
       "      <td>RC500</td>\n",
       "      <td>0.4</td>\n",
       "    </tr>\n",
       "    <tr>\n",
       "      <th>5</th>\n",
       "      <td>Racefiets voor recreatief gebruik RC500 Sora / Prowheel zwart\\nNIEUW\\n749,99\\nVAN RYSEL\\nRACEFIETS VOOR RECREATIEF GEBRUIK RC500 SORA / PROWHEEL ZWART</td>\n",
       "      <td>https://www.decathlon.nl/p/racefiets-voor-recreatief-gebruik-rc500-sora-prowheel-zwart/_/R-p-344718?mc=8789435&amp;c=GRIJS</td>\n",
       "      <td>749,99</td>\n",
       "      <td>Shimano Sora</td>\n",
       "      <td>RC500</td>\n",
       "      <td>0.4</td>\n",
       "    </tr>\n",
       "    <tr>\n",
       "      <th>6</th>\n",
       "      <td>Racefiets RC500 flatbar Prowheel / Sora\\nNIEUW\\n749,99\\nVAN RYSEL\\nRACEFIETS RC500 FLATBAR PROWHEEL / SORA</td>\n",
       "      <td>https://www.decathlon.nl/p/racefiets-rc500-flatbar-prowheel-sora/_/R-p-345067?mc=8788520&amp;c=GRIJS</td>\n",
       "      <td>749,99</td>\n",
       "      <td>Shimano Sora</td>\n",
       "      <td>RC500</td>\n",
       "      <td>0.4</td>\n",
       "    </tr>\n",
       "    <tr>\n",
       "      <th>10</th>\n",
       "      <td>Racefiets / wielrenfiets RC500 Shimano Sora met schijfremmen blauw\\n749,99\\nTRIBAN\\nRACEFIETS / WIELRENFIETS RC500 SHIMANO SORA MET SCHIJFREMMEN BLAUW\\n(49)\\nDit artikel is nu niet online verkrijgbaar, bekijk de winkelvoorraad</td>\n",
       "      <td>https://www.decathlon.nl/p/racefiets-wielrenfiets-rc500-shimano-sora-met-schijfremmen-blauw/_/R-p-X8518726?mc=8518726&amp;c=BLAUW_TURKOOIS</td>\n",
       "      <td>749,99</td>\n",
       "      <td>Shimano Sora</td>\n",
       "      <td>RC500</td>\n",
       "      <td>0.4</td>\n",
       "    </tr>\n",
       "  </tbody>\n",
       "</table>\n",
       "</div>"
      ],
      "text/plain": [
       "                                                                                                                                                                                                                                                 0  \\\n",
       "7                                                                                                                 Racefiets / Wielrenfiets EDR AF Ultegra wit/zwart\\n1.409,99\\nVAN RYSEL\\nRACEFIETS / WIELRENFIETS EDR AF ULTEGRA WIT/ZWART\\n(260)   \n",
       "0                                                  Racefiets / wielrenfiets RC120 Microshift met schijfremmen donkerblauw\\n499,99\\nIn 2 kleuren beschikbaar\\nTRIBAN\\nRACEFIETS / WIELRENFIETS RC120 MICROSHIFT MET SCHIJFREMMEN DONKERBLAUW\\n(743)   \n",
       "2                                                            Racefiets / wielrenfiets RC120 flatbar microshift en schijfremmen blauw/oranje\\n499,99\\nTRIBAN\\nRACEFIETS / WIELRENFIETS RC120 FLATBAR MICROSHIFT EN SCHIJFREMMEN BLAUW/ORANJE\\n(113)   \n",
       "3                                                                                                                 Racefiets / wielrenfiets EDR AF Shimano 105 zwart\\n1.099,99\\nVAN RYSEL\\nRACEFIETS / WIELRENFIETS EDR AF SHIMANO 105 ZWART\\n(331)   \n",
       "8                                                                                                                                  Racefiets EDR AF CENTAUR wit\\n1.099,99\\nIn 2 kleuren beschikbaar\\nVAN RYSEL\\nRACEFIETS EDR AF CENTAUR WIT\\n(34)   \n",
       "9   Racefiets / wielrenfiets RC520 flatbar Shimano 105 en schijfremmen blauw\\n949,99\\nTRIBAN\\nRACEFIETS / WIELRENFIETS RC520 FLATBAR SHIMANO 105 EN SCHIJFREMMEN BLAUW\\n(56)\\nDit artikel is nu niet online verkrijgbaar, bekijk de winkelvoorraad   \n",
       "1              Racefiets / wielrenfiets RC500 Shimano Sora met schijfremmen grijs\\n749,99\\nTRIBAN\\nRACEFIETS / WIELRENFIETS RC500 SHIMANO SORA MET SCHIJFREMMEN GRIJS\\n(174)\\nDit artikel is nu niet online verkrijgbaar, bekijk de winkelvoorraad   \n",
       "4                                                                                  RACEFIETS / WIELRENFIETS RC500 FLATBAR SHIMANO SORA EN SCHIJFREMMEN\\n809,99\\nTRIBAN\\nRACEFIETS / WIELRENFIETS RC500 FLATBAR SHIMANO SORA EN SCHIJFREMMEN\\n(252)   \n",
       "5                                                                                           Racefiets voor recreatief gebruik RC500 Sora / Prowheel zwart\\nNIEUW\\n749,99\\nVAN RYSEL\\nRACEFIETS VOOR RECREATIEF GEBRUIK RC500 SORA / PROWHEEL ZWART   \n",
       "6                                                                                                                                       Racefiets RC500 flatbar Prowheel / Sora\\nNIEUW\\n749,99\\nVAN RYSEL\\nRACEFIETS RC500 FLATBAR PROWHEEL / SORA   \n",
       "10              Racefiets / wielrenfiets RC500 Shimano Sora met schijfremmen blauw\\n749,99\\nTRIBAN\\nRACEFIETS / WIELRENFIETS RC500 SHIMANO SORA MET SCHIJFREMMEN BLAUW\\n(49)\\nDit artikel is nu niet online verkrijgbaar, bekijk de winkelvoorraad   \n",
       "\n",
       "                                                                                                                                     links  \\\n",
       "7                                           https://www.decathlon.nl/p/racefiets-wielrenfiets-edr-af-ultegra/_/R-p-311959?mc=8569095&c=WIT   \n",
       "0                      https://www.decathlon.nl/p/racefiets-wielrenfiets-rc120-microshift-met-schijfremmen/_/R-p-302301?mc=8545836&c=BLAUW   \n",
       "2        https://www.decathlon.nl/p/racefiets-wielrenfiets-rc120-flatbar-microshift-en-schijfremmen-blauw-oranje/_/R-p-X8556195?mc=8556195   \n",
       "3                                     https://www.decathlon.nl/p/racefiets-wielrenfiets-edr-af-shimano-105/_/R-p-305449?mc=8529300&c=ZWART   \n",
       "8                                                              https://www.decathlon.nl/p/racefiets-edr-af-centaur/_/R-p-335668?mc=8757114   \n",
       "9                https://www.decathlon.nl/p/racefiets-wielrenfiets-rc520-flatbar-shimano-105-en-schijfremmen-blauw/_/R-p-307286?mc=8543912   \n",
       "1              https://www.decathlon.nl/p/racefiets-wielrenfiets-rc500-shimano-sora-met-schijfremmen-grijs/_/R-p-301728?mc=8502354&c=GRIJS   \n",
       "4                     https://www.decathlon.nl/p/racefiets-wielrenfiets-rc500-flatbar-shimano-sora-en-schijfremmen/_/R-p-306215?mc=8548314   \n",
       "5                   https://www.decathlon.nl/p/racefiets-voor-recreatief-gebruik-rc500-sora-prowheel-zwart/_/R-p-344718?mc=8789435&c=GRIJS   \n",
       "6                                         https://www.decathlon.nl/p/racefiets-rc500-flatbar-prowheel-sora/_/R-p-345067?mc=8788520&c=GRIJS   \n",
       "10  https://www.decathlon.nl/p/racefiets-wielrenfiets-rc500-shimano-sora-met-schijfremmen-blauw/_/R-p-X8518726?mc=8518726&c=BLAUW_TURKOOIS   \n",
       "\n",
       "       price            set_type   model  type_set_weight  \n",
       "7   1.409,99     Shimano Ultegra  EDR AF              0.7  \n",
       "0     499,99          Microshift   RC120              0.6  \n",
       "2     499,99          Microshift   RC120              0.6  \n",
       "3   1.099,99         Shimano 105  EDR AF              0.6  \n",
       "8   1.099,99  Campagnolo Centaur  EDR AF              0.6  \n",
       "9     949,99         Shimano 105   RC520              0.6  \n",
       "1     749,99        Shimano Sora   RC500              0.4  \n",
       "4     809,99        Shimano Sora   RC500              0.4  \n",
       "5     749,99        Shimano Sora   RC500              0.4  \n",
       "6     749,99        Shimano Sora   RC500              0.4  \n",
       "10    749,99        Shimano Sora   RC500              0.4  "
      ]
     },
     "execution_count": 125,
     "metadata": {},
     "output_type": "execute_result"
    }
   ],
   "source": [
    "df.sort_values(by=['type_set_weight'],ascending = False)"
   ]
  },
  {
   "cell_type": "code",
   "execution_count": 126,
   "id": "f956bf4c",
   "metadata": {},
   "outputs": [],
   "source": [
    "df.sort_values(by=['type_set_weight'],ascending = False).to_excel('crawler_decatlhon.xlsx')"
   ]
  },
  {
   "cell_type": "code",
   "execution_count": null,
   "id": "744e8e54",
   "metadata": {},
   "outputs": [],
   "source": []
  }
 ],
 "metadata": {
  "kernelspec": {
   "display_name": "Python 3",
   "language": "python",
   "name": "python3"
  },
  "language_info": {
   "codemirror_mode": {
    "name": "ipython",
    "version": 3
   },
   "file_extension": ".py",
   "mimetype": "text/x-python",
   "name": "python",
   "nbconvert_exporter": "python",
   "pygments_lexer": "ipython3",
   "version": "3.9.13"
  }
 },
 "nbformat": 4,
 "nbformat_minor": 5
}
